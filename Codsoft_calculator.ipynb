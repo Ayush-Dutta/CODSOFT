{
  "nbformat": 4,
  "nbformat_minor": 0,
  "metadata": {
    "colab": {
      "provenance": [],
      "authorship_tag": "ABX9TyM6tM+3BWp596/wMr9Fl50N",
      "include_colab_link": true
    },
    "kernelspec": {
      "name": "python3",
      "display_name": "Python 3"
    },
    "language_info": {
      "name": "python"
    }
  },
  "cells": [
    {
      "cell_type": "markdown",
      "metadata": {
        "id": "view-in-github",
        "colab_type": "text"
      },
      "source": [
        "<a href=\"https://colab.research.google.com/github/Ayush-Dutta/CODSOFT/blob/main/Codsoft_calculator.ipynb\" target=\"_parent\"><img src=\"https://colab.research.google.com/assets/colab-badge.svg\" alt=\"Open In Colab\"/></a>"
      ]
    },
    {
      "cell_type": "code",
      "source": [
        "def get_input():\n",
        "    while True:\n",
        "        try:\n",
        "            x = float(input(\"Enter a number x: \"))\n",
        "            y = float(input(\"Enter a number y: \"))\n",
        "            return x, y\n",
        "        except ValueError:\n",
        "            print(\"Invalid input. Please enter a valid number.\")"
      ],
      "metadata": {
        "id": "yxwZ-b85o-a3"
      },
      "execution_count": 1,
      "outputs": []
    },
    {
      "cell_type": "code",
      "execution_count": 2,
      "metadata": {
        "id": "Uc9sougdoYlN"
      },
      "outputs": [],
      "source": [
        "def add():\n",
        "    x, y = get_input()\n",
        "    z = x + y\n",
        "    print(\"Addition of\", x, \"and\", y, \"is\", z)"
      ]
    },
    {
      "cell_type": "code",
      "source": [
        "def subtract():\n",
        "    x, y = get_input()\n",
        "    z = x - y\n",
        "    print(\"Subtraction of\", x, \"and\", y, \"is\", z)"
      ],
      "metadata": {
        "id": "1fc_WMN4phhB"
      },
      "execution_count": 3,
      "outputs": []
    },
    {
      "cell_type": "code",
      "source": [
        "def multiply():\n",
        "    x, y = get_input()\n",
        "    z = x * y\n",
        "    print(\"Multiplication of\", x, \"and\", y, \"is\", z)"
      ],
      "metadata": {
        "id": "hOWC9p1Rpj4r"
      },
      "execution_count": 4,
      "outputs": []
    },
    {
      "cell_type": "code",
      "source": [
        "def divide():\n",
        "    while True:\n",
        "        try:\n",
        "            x, y = get_input()\n",
        "            z = x / y\n",
        "            print(\"Division of\", x, \"and\", y, \"is\", z)\n",
        "            break\n",
        "        except ValueError:\n",
        "            print(\"Invalid input. Please enter valid numbers.\")\n",
        "        except ZeroDivisionError:\n",
        "            print(\"Cannot divide by zero\")"
      ],
      "metadata": {
        "id": "Q_4LwRnWplZY"
      },
      "execution_count": 5,
      "outputs": []
    },
    {
      "cell_type": "code",
      "source": [
        "def floor_divide():\n",
        "    while True:\n",
        "        try:\n",
        "            x, y = get_input()\n",
        "            if y == 0:\n",
        "                print(\"Error: Division by zero\")\n",
        "            else:\n",
        "                if abs(x) < abs(y):\n",
        "                    raise ValueError(\"Error: The dividend should be greater than or equal to the divisor.\")\n",
        "                else:\n",
        "                    z = x // y\n",
        "                    print(\"Floor Division of\", x, \"and\", y, \"is\", z)\n",
        "                    break\n",
        "        except ValueError as e:\n",
        "            print(e)"
      ],
      "metadata": {
        "id": "_nCzoezXpngZ"
      },
      "execution_count": 6,
      "outputs": []
    },
    {
      "cell_type": "code",
      "source": [
        "def modulus():\n",
        "    x, y = get_input()\n",
        "    if y == 0:\n",
        "        print(\"Error: Modulus by zero not possible\")\n",
        "    else:\n",
        "        z = x % y\n",
        "        print(\"Modulus of\", x, \"and\", y, \"is\", z)"
      ],
      "metadata": {
        "id": "7r3CVHbotuQP"
      },
      "execution_count": 7,
      "outputs": []
    },
    {
      "cell_type": "code",
      "source": [
        "def calculator():\n",
        "    while True:\n",
        "        print(\"Select operation:\")\n",
        "        print(\"1. Add\")\n",
        "        print(\"2. Subtract\")\n",
        "        print(\"3. Multiply\")\n",
        "        print(\"4. Divide\")\n",
        "        print(\"5. Floor Division\")\n",
        "        print(\"6. Modulus\")\n",
        "        print(\"7. Exit\")\n",
        "\n",
        "        choice = input(\"Enter choice (1/2/3/4/5/6/7): \")\n",
        "\n",
        "        if choice == '1':\n",
        "            add()\n",
        "        elif choice == '2':\n",
        "            subtract()\n",
        "        elif choice == '3':\n",
        "            multiply()\n",
        "        elif choice == '4':\n",
        "            divide()\n",
        "        elif choice == '5':\n",
        "            floor_divide()\n",
        "        elif choice == '6':\n",
        "            modulus()\n",
        "        elif choice == '7':\n",
        "            print(\"Exiting calculator... Goodbye!\")\n",
        "            break\n",
        "        else:\n",
        "            print(\"Invalid input\")\n",
        "\n",
        "\n",
        "        print(\"-\" * 30)\n",
        "\n",
        "calculator()\n",
        "\n"
      ],
      "metadata": {
        "id": "HiNX0Wj8rrLf",
        "colab": {
          "base_uri": "https://localhost:8080/"
        },
        "outputId": "b09022ae-be63-48e5-a644-68f2d2f89899"
      },
      "execution_count": 8,
      "outputs": [
        {
          "output_type": "stream",
          "name": "stdout",
          "text": [
            "Select operation:\n",
            "1. Add\n",
            "2. Subtract\n",
            "3. Multiply\n",
            "4. Divide\n",
            "5. Floor Division\n",
            "6. Modulus\n",
            "7. Exit\n",
            "Enter choice (1/2/3/4/5/6/7): 1\n",
            "Enter a number x: 69\n",
            "Enter a number y: 5\n",
            "Addition of 69.0 and 5.0 is 74.0\n",
            "------------------------------\n",
            "Select operation:\n",
            "1. Add\n",
            "2. Subtract\n",
            "3. Multiply\n",
            "4. Divide\n",
            "5. Floor Division\n",
            "6. Modulus\n",
            "7. Exit\n",
            "Enter choice (1/2/3/4/5/6/7): 2\n",
            "Enter a number x: 6\n",
            "Enter a number y: 9\n",
            "Subtraction of 6.0 and 9.0 is -3.0\n",
            "------------------------------\n",
            "Select operation:\n",
            "1. Add\n",
            "2. Subtract\n",
            "3. Multiply\n",
            "4. Divide\n",
            "5. Floor Division\n",
            "6. Modulus\n",
            "7. Exit\n",
            "Enter choice (1/2/3/4/5/6/7): 3\n",
            "Enter a number x: 6\n",
            "Enter a number y: 9\n",
            "Multiplication of 6.0 and 9.0 is 54.0\n",
            "------------------------------\n",
            "Select operation:\n",
            "1. Add\n",
            "2. Subtract\n",
            "3. Multiply\n",
            "4. Divide\n",
            "5. Floor Division\n",
            "6. Modulus\n",
            "7. Exit\n",
            "Enter choice (1/2/3/4/5/6/7): 4\n",
            "Enter a number x: 9\n",
            "Enter a number y: 5\n",
            "Division of 9.0 and 5.0 is 1.8\n",
            "------------------------------\n",
            "Select operation:\n",
            "1. Add\n",
            "2. Subtract\n",
            "3. Multiply\n",
            "4. Divide\n",
            "5. Floor Division\n",
            "6. Modulus\n",
            "7. Exit\n",
            "Enter choice (1/2/3/4/5/6/7): 5\n",
            "Enter a number x: 9\n",
            "Enter a number y: 5\n",
            "Floor Division of 9.0 and 5.0 is 1.0\n",
            "------------------------------\n",
            "Select operation:\n",
            "1. Add\n",
            "2. Subtract\n",
            "3. Multiply\n",
            "4. Divide\n",
            "5. Floor Division\n",
            "6. Modulus\n",
            "7. Exit\n",
            "Enter choice (1/2/3/4/5/6/7): 5\n",
            "Enter a number x: 5\n",
            "Enter a number y: 9\n",
            "Error: The dividend should be greater than or equal to the divisor.\n",
            "Enter a number x: 9\n",
            "Enter a number y: 5\n",
            "Floor Division of 9.0 and 5.0 is 1.0\n",
            "------------------------------\n",
            "Select operation:\n",
            "1. Add\n",
            "2. Subtract\n",
            "3. Multiply\n",
            "4. Divide\n",
            "5. Floor Division\n",
            "6. Modulus\n",
            "7. Exit\n",
            "Enter choice (1/2/3/4/5/6/7): 6\n",
            "Enter a number x: 2\n",
            "Enter a number y: 9\n",
            "Modulus of 2.0 and 9.0 is 2.0\n",
            "------------------------------\n",
            "Select operation:\n",
            "1. Add\n",
            "2. Subtract\n",
            "3. Multiply\n",
            "4. Divide\n",
            "5. Floor Division\n",
            "6. Modulus\n",
            "7. Exit\n",
            "Enter choice (1/2/3/4/5/6/7): 7\n",
            "Exiting calculator. Goodbye!\n"
          ]
        }
      ]
    }
  ]
}