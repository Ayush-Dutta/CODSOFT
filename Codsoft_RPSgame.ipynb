{
  "nbformat": 4,
  "nbformat_minor": 0,
  "metadata": {
    "colab": {
      "provenance": [],
      "authorship_tag": "ABX9TyNRVbSnz1X5ZYgR2dfzqFut",
      "include_colab_link": true
    },
    "kernelspec": {
      "name": "python3",
      "display_name": "Python 3"
    },
    "language_info": {
      "name": "python"
    }
  },
  "cells": [
    {
      "cell_type": "markdown",
      "metadata": {
        "id": "view-in-github",
        "colab_type": "text"
      },
      "source": [
        "<a href=\"https://colab.research.google.com/github/Ayush-Dutta/CODSOFT/blob/main/Codsoft_RPSgame.ipynb\" target=\"_parent\"><img src=\"https://colab.research.google.com/assets/colab-badge.svg\" alt=\"Open In Colab\"/></a>"
      ]
    },
    {
      "cell_type": "code",
      "execution_count": 16,
      "metadata": {
        "id": "Ipwjt1C2w_um"
      },
      "outputs": [],
      "source": [
        "import random"
      ]
    },
    {
      "cell_type": "code",
      "source": [
        "def play_game():\n",
        "    choices = [\"rock\", \"paper\", \"scissors\"]\n",
        "    user_score = 0\n",
        "    computer_score = 0\n",
        "\n",
        "    while True:\n",
        "        user_choice = input(\"Choose rock, paper, or scissors: \").lower()\n",
        "        while user_choice not in choices:\n",
        "            user_choice = input(\"Invalid choice.\\n Choose rock, paper, or scissors: \").lower()\n",
        "\n",
        "        computer_choice = random.choice(choices)\n",
        "\n",
        "        print(\"You chose:\", user_choice)\n",
        "        print(\"Computer chose:\", computer_choice)\n",
        "\n",
        "        result = get_winner(user_choice, computer_choice)\n",
        "        print(result)\n",
        "\n",
        "        if result == \"You win!\":\n",
        "            user_score += 1\n",
        "        elif result == \"You lose!\":\n",
        "            computer_score += 1\n",
        "\n",
        "        print(\"Score - You: {}, Computer: {}\".format(user_score, computer_score))\n",
        "\n",
        "        play_again = input(\"Play again? (y/n): \").lower()\n",
        "        while play_again not in ['y', 'n']:\n",
        "            play_again = input(\"Invalid input. Enter 'y' to play again or 'n' to quit: \").lower()\n",
        "\n",
        "        if play_again != 'y':\n",
        "            break\n",
        "\n",
        "    print(\"Thanks for playing!\")"
      ],
      "metadata": {
        "id": "xse3MR0px9sl"
      },
      "execution_count": 17,
      "outputs": []
    },
    {
      "cell_type": "code",
      "source": [
        "def get_winner(user, computer):\n",
        "    if user == computer:\n",
        "        return \"It's a tie!\"\n",
        "    elif (user == \"rock\" and computer == \"scissors\") or \\\n",
        "         (user == \"scissors\" and computer == \"paper\") or \\\n",
        "         (user == \"paper\" and computer == \"rock\"):\n",
        "        return \"You win!\"\n",
        "    else:\n",
        "        return \"You lose!\""
      ],
      "metadata": {
        "id": "qmtQ28Ytx-Ac"
      },
      "execution_count": 18,
      "outputs": []
    },
    {
      "cell_type": "code",
      "source": [
        "play_game()"
      ],
      "metadata": {
        "colab": {
          "base_uri": "https://localhost:8080/"
        },
        "id": "_LnqDmqDyG5G",
        "outputId": "3c3c24ef-f61a-4a21-a267-b2965e791c84"
      },
      "execution_count": 19,
      "outputs": [
        {
          "output_type": "stream",
          "name": "stdout",
          "text": [
            "Choose rock, paper, or scissors: none\n",
            "Invalid choice.\n",
            " Choose rock, paper, or scissors: rock\n",
            "You chose: rock\n",
            "Computer chose: rock\n",
            "It's a tie!\n",
            "Score - You: 0, Computer: 0\n",
            "Play again? (y/n): rock\n",
            "Invalid input. Enter 'y' to play again or 'n' to quit: y\n",
            "Choose rock, paper, or scissors: rock\n",
            "You chose: rock\n",
            "Computer chose: paper\n",
            "You lose!\n",
            "Score - You: 0, Computer: 1\n",
            "Play again? (y/n): y\n",
            "Choose rock, paper, or scissors: paper\n",
            "You chose: paper\n",
            "Computer chose: scissors\n",
            "You lose!\n",
            "Score - You: 0, Computer: 2\n",
            "Play again? (y/n): y\n",
            "Choose rock, paper, or scissors: scissor\n",
            "Invalid choice.\n",
            " Choose rock, paper, or scissors: scissors\n",
            "You chose: scissors\n",
            "Computer chose: rock\n",
            "You lose!\n",
            "Score - You: 0, Computer: 3\n",
            "Play again? (y/n): y\n",
            "Choose rock, paper, or scissors: rock\n",
            "You chose: rock\n",
            "Computer chose: scissors\n",
            "You win!\n",
            "Score - You: 1, Computer: 3\n",
            "Play again? (y/n): n\n",
            "Thanks for playing!\n"
          ]
        }
      ]
    }
  ]
}