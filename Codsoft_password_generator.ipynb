{
  "nbformat": 4,
  "nbformat_minor": 0,
  "metadata": {
    "colab": {
      "provenance": [],
      "authorship_tag": "ABX9TyNCUYE3Nws310HWEciOYyjb",
      "include_colab_link": true
    },
    "kernelspec": {
      "name": "python3",
      "display_name": "Python 3"
    },
    "language_info": {
      "name": "python"
    }
  },
  "cells": [
    {
      "cell_type": "markdown",
      "metadata": {
        "id": "view-in-github",
        "colab_type": "text"
      },
      "source": [
        "<a href=\"https://colab.research.google.com/github/Ayush-Dutta/CODSOFT/blob/main/Codsoft_password_generator.ipynb\" target=\"_parent\"><img src=\"https://colab.research.google.com/assets/colab-badge.svg\" alt=\"Open In Colab\"/></a>"
      ]
    },
    {
      "cell_type": "code",
      "execution_count": 8,
      "metadata": {
        "id": "gZIs9HePzyEI"
      },
      "outputs": [],
      "source": [
        "import random\n",
        "import string"
      ]
    },
    {
      "cell_type": "code",
      "source": [
        "def get_password_length():\n",
        "    while True:\n",
        "        try:\n",
        "            length = int(input(\"Enter the length of the password: \"))\n",
        "            if length < 1:\n",
        "                print(\"Length of password should at least be 1.\")\n",
        "            else:\n",
        "                return length\n",
        "        except ValueError:\n",
        "            print(\"Invalid input. Please enter a valid integer.\")"
      ],
      "metadata": {
        "id": "iMmGykfb0GO1"
      },
      "execution_count": 9,
      "outputs": []
    },
    {
      "cell_type": "code",
      "source": [
        "def generate_password():\n",
        "    length = get_password_length()\n",
        "    characters = string.ascii_letters + string.digits + string.punctuation\n",
        "    password = \"\"\n",
        "    for i in range(length):\n",
        "        password += random.choice(characters)\n",
        "    return password"
      ],
      "metadata": {
        "id": "EOy4bKER0KKF"
      },
      "execution_count": 10,
      "outputs": []
    },
    {
      "cell_type": "code",
      "source": [
        "def generate():\n",
        "    password = generate_password()\n",
        "    print(\"Generated password:\", password)"
      ],
      "metadata": {
        "id": "n6jMNUKQ0MWD"
      },
      "execution_count": 11,
      "outputs": []
    },
    {
      "cell_type": "code",
      "source": [
        "generate()"
      ],
      "metadata": {
        "colab": {
          "base_uri": "https://localhost:8080/"
        },
        "id": "cp-aMS9h0PkJ",
        "outputId": "8d10f542-73c9-440f-f001-e6c754f3a5cd"
      },
      "execution_count": 12,
      "outputs": [
        {
          "output_type": "stream",
          "name": "stdout",
          "text": [
            "Enter the length of the password: 0\n",
            "Length of password should at least be 1.\n",
            "Enter the length of the password: -55\n",
            "Length of password should at least be 1.\n",
            "Enter the length of the password: 1\n",
            "Generated password: \\\n"
          ]
        }
      ]
    },
    {
      "cell_type": "code",
      "source": [
        "generate()"
      ],
      "metadata": {
        "colab": {
          "base_uri": "https://localhost:8080/"
        },
        "id": "cb8bTYcy0kOt",
        "outputId": "a287eeb2-2285-4e2f-aa45-fc10b680fc4d"
      },
      "execution_count": 13,
      "outputs": [
        {
          "output_type": "stream",
          "name": "stdout",
          "text": [
            "Enter the length of the password: 6\n",
            "Generated password: hP<o{5\n"
          ]
        }
      ]
    },
    {
      "cell_type": "code",
      "source": [
        "generate()"
      ],
      "metadata": {
        "colab": {
          "base_uri": "https://localhost:8080/"
        },
        "id": "WhofpSRy0lVk",
        "outputId": "2eaee998-0b38-4dcf-c06d-142cd63fb5f0"
      },
      "execution_count": 14,
      "outputs": [
        {
          "output_type": "stream",
          "name": "stdout",
          "text": [
            "Enter the length of the password: 10\n",
            "Generated password: W=!\"38=,Aa\n"
          ]
        }
      ]
    }
  ]
}